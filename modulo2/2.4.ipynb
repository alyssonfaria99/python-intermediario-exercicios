{
 "cells": [
  {
   "cell_type": "markdown",
   "metadata": {},
   "source": [
    "> Projeto Desenvolve <br>\n",
    "Programação Intermediária com Python <br>\n",
    "Profa. Camila Laranjeira (mila@projetodesenvolve.com.br) <br>\n",
    "\n",
    "# 2.4 - Classes, atributos e métodos"
   ]
  },
  {
   "cell_type": "markdown",
   "metadata": {},
   "source": [
    "## Exercícios\n",
    "\n",
    "#### Q1.\n",
    "Vamos criar aos pouquinhos uma classe Evento que registra eventos de um calendário. Pra começar, nessa questão você deve:\n",
    "\n",
    "* Criar uma classe chamada Evento\n",
    "* Adicionar um atributo de classe `total_eventos` que será usado para contar o número total de eventos (instâncias de classe) criadas.\n",
    "* Implemente o método construtor que deve receber os parâmetros `titulo` (`string`), `data_hora` (`datetime`), `descrição` (`string`). Crie e inicialize um atributo de instância para cada um dos parâmetros citados.\n",
    "* O construtor também deve inicializar um atributo de instância `is_concluido = False`. Esse atributo será utilizado mais à frente. \n",
    "* No construtor você também deve incrementar o atributo de classe `total_eventos` em 1 a cada nova instância criada.\n",
    "\n",
    "Teste o seu código criando duas diferentes instâncias de evento (preencha os atributos como quiser) e imprimindo todos os seus atributos (de classe e de instância).\n",
    "\n",
    "> Consulte [este tutorial biblioteca `datetime`](https://www.w3schools.com/python/python_datetime.asp) caso não esteja familiarizado."
   ]
  },
  {
   "cell_type": "code",
   "execution_count": 1,
   "metadata": {
    "vscode": {
     "languageId": "plaintext"
    }
   },
   "outputs": [
    {
     "name": "stdout",
     "output_type": "stream",
     "text": [
      "4\n"
     ]
    }
   ],
   "source": [
    "from datetime import datetime\n",
    "class Evento:\n",
    "    total_eventos = 0\n",
    "    def __init__(self,titulo,data_hora, descricao):\n",
    "        self.titulo = titulo\n",
    "        self.data_hora = data_hora\n",
    "        self.descricao = descricao\n",
    "        self.is_concluido = False\n",
    "\n",
    "        Evento.total_eventos += 1\n",
    "\n",
    "evento1 = Evento(\"Reunião\", datetime(2024, 12, 20, 14, 30), \"Discussão do projeto\")\n",
    "evento2 = Evento(\"Aniversário\", datetime(2024, 12, 25, 19, 0), \"aniversário\")\n",
    "evento2 = Evento(\"Aniversário\", datetime(2024, 12, 25, 19, 0), \"aniversário\")\n",
    "evento2 = Evento(\"Aniversário\", datetime(2024, 12, 25, 19, 0), \"aniversário\")\n",
    "\n",
    "print(Evento.total_eventos)"
   ]
  },
  {
   "cell_type": "markdown",
   "metadata": {},
   "source": [
    "#### Q2.\n",
    "Agora vamos adicionar métodos à nossa classe. Lembre dos diferentes decoradores que aprendemos. Você deve redefinir a classe com os seguintes métodos:\n",
    "* Um método `isConcluido()` que avalia se a `data_hora` do evento é menor que `datetime.now()` (a data e hora atual). Em caso positivo, atualiza o atributo de instância `is_concluido` para o valor `True`. \n",
    "* Um método de classe `num_eventos()` que retorna o valor do atributo de classe `total_eventos`.\n",
    "* Um método estático `valida_evento(nome, data_hora, descricao)` que recebe os atributos de um evento e testa os tipos de cada variável, retornando `True` caso todos estejam corretos e `False` caso contrário. Para o teste, use a função nativa do Python [`isinstance`](https://www.w3schools.com/python/ref_func_isinstance.asp).\n",
    "\n",
    "Para testar sua classe atualizada:\n",
    "* Crie uma instância de Evento com valor passado e chame o método `isConcluido()` para a instância criada. Em seguida imprima o atributo `is_concluido`. \n",
    "* Invoque o método de classe `num_eventos()` a partir da classe Evento (ou seja, sem criar nenhuma instância).\n",
    "* Chame o método estático `valida_evento()` a partir da classe Evento. Experimente passar valores corretos e incorretos. \n"
   ]
  },
  {
   "cell_type": "code",
   "execution_count": 2,
   "metadata": {
    "vscode": {
     "languageId": "plaintext"
    }
   },
   "outputs": [
    {
     "name": "stdout",
     "output_type": "stream",
     "text": [
      "True\n",
      "False\n",
      "2\n",
      "True\n"
     ]
    }
   ],
   "source": [
    "from datetime import datetime\n",
    "class Evento:\n",
    "    total_eventos = 0\n",
    "    def __init__(self,titulo,data_hora, descricao):\n",
    "        self.titulo = titulo\n",
    "        self.data_hora = data_hora\n",
    "        self.descricao = descricao\n",
    "        self.is_concluido = False\n",
    "\n",
    "        Evento.total_eventos += 1\n",
    "\n",
    "    def isConcluido(self):\n",
    "        if self.data_hora < datetime.now():\n",
    "            self.is_concluido = True\n",
    "\n",
    "    @classmethod\n",
    "    def num_eventos(classe):\n",
    "        return classe.total_eventos\n",
    "\n",
    "    @staticmethod\n",
    "    def valida_evento(titulo, data_hora, descricao):\n",
    "        return (\n",
    "            isinstance(titulo, str) and\n",
    "            isinstance(data_hora, datetime) and\n",
    "            isinstance(descricao, str))\n",
    "\n",
    "\n",
    "\n",
    "evento1 = Evento(\"Reunião\", datetime(2024, 12, 10, 14, 30), \"Discussão do projeto\")\n",
    "evento2 = Evento(\"Aniversário\", datetime(2024, 12, 25, 19, 0), \"aniversário\")\n",
    "evento1.isConcluido()\n",
    "evento2.isConcluido()\n",
    "print(evento1.is_concluido)\n",
    "print(evento2.is_concluido)\n",
    "print(Evento.num_eventos())\n",
    "print(Evento.valida_evento('ok', datetime(2024, 12, 25, 19, 0),'ok'))"
   ]
  },
  {
   "cell_type": "markdown",
   "metadata": {
    "vscode": {
     "languageId": "plaintext"
    }
   },
   "source": [
    "#### Q3.\n",
    "\n",
    "Vamos incluir métodos mágicos! ✨🪄🔮\n",
    "\n",
    "Redefina a classe incluindo\":\n",
    "* Método `__str__` que imprime os atributos do evento na forma `\"Evento: titulo, Data: data_hora, Descrição: descricao, Concluido: is_concluido\"`.\n",
    "* Implemente os métodos de comparação `__eq__`, `__ne__`, `__lt__`, `__le__`, `__gt__` e `__ge__` para comparar eventos baseados no atributo `data_hora`. Esses métodos devem comparar duas instâncias de Evento e retornar os resultados apropriados (`True` ou `False`).\n",
    "\n",
    "Para testar, crie duas instâncias de Evento com datas diferentes. Imprima as instâncias com a função `print()` e apresente o resultado das comparações entre eventos (`==`, `!=`, `<`, `<=`, `>`, `>=`)."
   ]
  },
  {
   "cell_type": "code",
   "execution_count": 24,
   "metadata": {
    "vscode": {
     "languageId": "plaintext"
    }
   },
   "outputs": [
    {
     "name": "stdout",
     "output_type": "stream",
     "text": [
      "Evento: Reunião, Data: 2024-12-25 14:30:00, Descrição: Discussão do projeto, Concluído: False\n",
      "Evento 1 == Evento 2: False\n",
      "Evento 1 != Evento 2: True\n",
      "Evento 1 < Evento 2: True\n",
      "Evento 1 <= Evento 2: True\n",
      "Evento 1 > Evento 2: False\n",
      "Evento 1 >= Evento 2: False\n"
     ]
    }
   ],
   "source": [
    "from datetime import datetime\n",
    "class Evento:\n",
    "    total_eventos = 0\n",
    "    def __init__(self,titulo,data_hora, descricao):\n",
    "        self.titulo = titulo\n",
    "        self.data_hora = data_hora\n",
    "        self.descricao = descricao\n",
    "        self.is_concluido = False\n",
    "\n",
    "        Evento.total_eventos += 1\n",
    "\n",
    "    def isConcluido(self):\n",
    "        if self.data_hora < datetime.now():\n",
    "            self.is_concluido = True\n",
    "\n",
    "    @classmethod\n",
    "    def num_eventos(classe):\n",
    "        return classe.total_eventos\n",
    "\n",
    "    @staticmethod\n",
    "    def valida_evento(titulo, data_hora, descricao):\n",
    "        return (\n",
    "            isinstance(titulo, str) and\n",
    "            isinstance(data_hora, datetime) and\n",
    "            isinstance(descricao, str))\n",
    "\n",
    "    def __str__(self):\n",
    "        return (f\"Evento: {self.titulo}, Data: {self.data_hora}, \"f\"Descrição: {self.descricao}, Concluído: {self.is_concluido}\")\n",
    "\n",
    "    def __eq__(self, other):\n",
    "        return self.data_hora == other.data_hora\n",
    "\n",
    "    def __ne__(self, other):\n",
    "        return self.data_hora != other.data_hora\n",
    "\n",
    "    def __lt__(self, other):\n",
    "        return self.data_hora < other.data_hora\n",
    "\n",
    "    def __le__(self, other):\n",
    "        return self.data_hora <= other.data_hora\n",
    "\n",
    "    def __gt__(self, other):\n",
    "        return self.data_hora > other.data_hora\n",
    "\n",
    "    def __ge__(self, other):\n",
    "        return self.data_hora >= other.data_hora\n",
    "\n",
    "evento1 = Evento(\"Reunião\", datetime(2024, 12, 25, 14, 30), \"Discussão do projeto\")\n",
    "evento2 = Evento(\"Aniversário\", datetime(2024, 12, 25, 19, 0), \"aniversário\")\n",
    "print(evento1.__str__())\n",
    "print(f\"Evento 1 == Evento 2: {evento1.__eq__(evento2)}\")\n",
    "print(f\"Evento 1 != Evento 2: {evento1.__ne__(evento2)}\")\n",
    "print(f\"Evento 1 < Evento 2: {evento1.__lt__(evento2)}\")\n",
    "print(f\"Evento 1 <= Evento 2: {evento1.__le__(evento2)}\")\n",
    "print(f\"Evento 1 > Evento 2: {evento1.__gt__(evento2)}\")\n",
    "print(f\"Evento 1 >= Evento 2: {evento1.__ge__(evento2)}\")"
   ]
  }
 ],
 "metadata": {
  "kernelspec": {
   "display_name": "Python 3 (ipykernel)",
   "language": "python",
   "name": "python3"
  },
  "language_info": {
   "codemirror_mode": {
    "name": "ipython",
    "version": 3
   },
   "file_extension": ".py",
   "mimetype": "text/x-python",
   "name": "python",
   "nbconvert_exporter": "python",
   "pygments_lexer": "ipython3",
   "version": "3.11.7"
  }
 },
 "nbformat": 4,
 "nbformat_minor": 4
}
